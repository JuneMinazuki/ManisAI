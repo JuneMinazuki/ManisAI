{
 "cells": [
  {
   "cell_type": "code",
   "execution_count": null,
   "id": "88b257a1",
   "metadata": {
    "vscode": {
     "languageId": "plaintext"
    }
   },
   "outputs": [],
   "source": [
    "%pip uninstall -y numpy pandas tensorflow\n",
    "%pip install --no-cache-dir tensorflow==2.12.0 numpy==1.23.5 pandas==1.5.3"
   ]
  }
 ],
 "metadata": {
  "language_info": {
   "name": "python"
  }
 },
 "nbformat": 4,
 "nbformat_minor": 5
}
